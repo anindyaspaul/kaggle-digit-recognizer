{
 "cells": [
  {
   "cell_type": "code",
   "execution_count": 14,
   "metadata": {
    "collapsed": true
   },
   "outputs": [
    {
     "name": "stdout",
     "output_type": "stream",
     "text": [
      "The autoreload extension is already loaded. To reload it, use:\n",
      "  %reload_ext autoreload\n"
     ]
    }
   ],
   "source": [
    "import torch\n",
    "import torchvision\n",
    "import pandas\n",
    "import matplotlib.pyplot as plt\n",
    "\n",
    "from data_utils import *\n",
    "\n",
    "%matplotlib inline\n",
    "%load_ext autoreload\n",
    "%autoreload 2"
   ]
  },
  {
   "cell_type": "code",
   "execution_count": 15,
   "metadata": {},
   "outputs": [
    {
     "name": "stdout",
     "output_type": "stream",
     "text": [
      "cuda:0\n"
     ]
    }
   ],
   "source": [
    "device = torch.device(\"cuda:0\" if torch.cuda.is_available() else \"cpu\")\n",
    "# device = torch.device(\"cpu\")\n",
    "print(device)"
   ]
  },
  {
   "cell_type": "code",
   "execution_count": 16,
   "metadata": {},
   "outputs": [
    {
     "data": {
      "text/html": [
       "<div>\n",
       "<style scoped>\n",
       "    .dataframe tbody tr th:only-of-type {\n",
       "        vertical-align: middle;\n",
       "    }\n",
       "\n",
       "    .dataframe tbody tr th {\n",
       "        vertical-align: top;\n",
       "    }\n",
       "\n",
       "    .dataframe thead th {\n",
       "        text-align: right;\n",
       "    }\n",
       "</style>\n",
       "<table border=\"1\" class=\"dataframe\">\n",
       "  <thead>\n",
       "    <tr style=\"text-align: right;\">\n",
       "      <th></th>\n",
       "      <th>label</th>\n",
       "      <th>pixel0</th>\n",
       "      <th>pixel1</th>\n",
       "      <th>pixel2</th>\n",
       "      <th>pixel3</th>\n",
       "      <th>pixel4</th>\n",
       "      <th>pixel5</th>\n",
       "      <th>pixel6</th>\n",
       "      <th>pixel7</th>\n",
       "      <th>pixel8</th>\n",
       "      <th>...</th>\n",
       "      <th>pixel774</th>\n",
       "      <th>pixel775</th>\n",
       "      <th>pixel776</th>\n",
       "      <th>pixel777</th>\n",
       "      <th>pixel778</th>\n",
       "      <th>pixel779</th>\n",
       "      <th>pixel780</th>\n",
       "      <th>pixel781</th>\n",
       "      <th>pixel782</th>\n",
       "      <th>pixel783</th>\n",
       "    </tr>\n",
       "  </thead>\n",
       "  <tbody>\n",
       "    <tr>\n",
       "      <th>0</th>\n",
       "      <td>1</td>\n",
       "      <td>0</td>\n",
       "      <td>0</td>\n",
       "      <td>0</td>\n",
       "      <td>0</td>\n",
       "      <td>0</td>\n",
       "      <td>0</td>\n",
       "      <td>0</td>\n",
       "      <td>0</td>\n",
       "      <td>0</td>\n",
       "      <td>...</td>\n",
       "      <td>0</td>\n",
       "      <td>0</td>\n",
       "      <td>0</td>\n",
       "      <td>0</td>\n",
       "      <td>0</td>\n",
       "      <td>0</td>\n",
       "      <td>0</td>\n",
       "      <td>0</td>\n",
       "      <td>0</td>\n",
       "      <td>0</td>\n",
       "    </tr>\n",
       "    <tr>\n",
       "      <th>1</th>\n",
       "      <td>0</td>\n",
       "      <td>0</td>\n",
       "      <td>0</td>\n",
       "      <td>0</td>\n",
       "      <td>0</td>\n",
       "      <td>0</td>\n",
       "      <td>0</td>\n",
       "      <td>0</td>\n",
       "      <td>0</td>\n",
       "      <td>0</td>\n",
       "      <td>...</td>\n",
       "      <td>0</td>\n",
       "      <td>0</td>\n",
       "      <td>0</td>\n",
       "      <td>0</td>\n",
       "      <td>0</td>\n",
       "      <td>0</td>\n",
       "      <td>0</td>\n",
       "      <td>0</td>\n",
       "      <td>0</td>\n",
       "      <td>0</td>\n",
       "    </tr>\n",
       "    <tr>\n",
       "      <th>2</th>\n",
       "      <td>1</td>\n",
       "      <td>0</td>\n",
       "      <td>0</td>\n",
       "      <td>0</td>\n",
       "      <td>0</td>\n",
       "      <td>0</td>\n",
       "      <td>0</td>\n",
       "      <td>0</td>\n",
       "      <td>0</td>\n",
       "      <td>0</td>\n",
       "      <td>...</td>\n",
       "      <td>0</td>\n",
       "      <td>0</td>\n",
       "      <td>0</td>\n",
       "      <td>0</td>\n",
       "      <td>0</td>\n",
       "      <td>0</td>\n",
       "      <td>0</td>\n",
       "      <td>0</td>\n",
       "      <td>0</td>\n",
       "      <td>0</td>\n",
       "    </tr>\n",
       "    <tr>\n",
       "      <th>3</th>\n",
       "      <td>4</td>\n",
       "      <td>0</td>\n",
       "      <td>0</td>\n",
       "      <td>0</td>\n",
       "      <td>0</td>\n",
       "      <td>0</td>\n",
       "      <td>0</td>\n",
       "      <td>0</td>\n",
       "      <td>0</td>\n",
       "      <td>0</td>\n",
       "      <td>...</td>\n",
       "      <td>0</td>\n",
       "      <td>0</td>\n",
       "      <td>0</td>\n",
       "      <td>0</td>\n",
       "      <td>0</td>\n",
       "      <td>0</td>\n",
       "      <td>0</td>\n",
       "      <td>0</td>\n",
       "      <td>0</td>\n",
       "      <td>0</td>\n",
       "    </tr>\n",
       "    <tr>\n",
       "      <th>4</th>\n",
       "      <td>0</td>\n",
       "      <td>0</td>\n",
       "      <td>0</td>\n",
       "      <td>0</td>\n",
       "      <td>0</td>\n",
       "      <td>0</td>\n",
       "      <td>0</td>\n",
       "      <td>0</td>\n",
       "      <td>0</td>\n",
       "      <td>0</td>\n",
       "      <td>...</td>\n",
       "      <td>0</td>\n",
       "      <td>0</td>\n",
       "      <td>0</td>\n",
       "      <td>0</td>\n",
       "      <td>0</td>\n",
       "      <td>0</td>\n",
       "      <td>0</td>\n",
       "      <td>0</td>\n",
       "      <td>0</td>\n",
       "      <td>0</td>\n",
       "    </tr>\n",
       "  </tbody>\n",
       "</table>\n",
       "<p>5 rows × 785 columns</p>\n",
       "</div>"
      ],
      "text/plain": [
       "   label  pixel0  pixel1  pixel2  pixel3  pixel4  pixel5  pixel6  pixel7  \\\n",
       "0      1       0       0       0       0       0       0       0       0   \n",
       "1      0       0       0       0       0       0       0       0       0   \n",
       "2      1       0       0       0       0       0       0       0       0   \n",
       "3      4       0       0       0       0       0       0       0       0   \n",
       "4      0       0       0       0       0       0       0       0       0   \n",
       "\n",
       "   pixel8  ...  pixel774  pixel775  pixel776  pixel777  pixel778  pixel779  \\\n",
       "0       0  ...         0         0         0         0         0         0   \n",
       "1       0  ...         0         0         0         0         0         0   \n",
       "2       0  ...         0         0         0         0         0         0   \n",
       "3       0  ...         0         0         0         0         0         0   \n",
       "4       0  ...         0         0         0         0         0         0   \n",
       "\n",
       "   pixel780  pixel781  pixel782  pixel783  \n",
       "0         0         0         0         0  \n",
       "1         0         0         0         0  \n",
       "2         0         0         0         0  \n",
       "3         0         0         0         0  \n",
       "4         0         0         0         0  \n",
       "\n",
       "[5 rows x 785 columns]"
      ]
     },
     "execution_count": 16,
     "metadata": {},
     "output_type": "execute_result"
    }
   ],
   "source": [
    "full_train_df = pandas.read_csv('data/train.csv')\n",
    "full_train_df.head()"
   ]
  },
  {
   "cell_type": "code",
   "execution_count": 58,
   "metadata": {},
   "outputs": [
    {
     "data": {
      "text/plain": [
       "count    42000.000000\n",
       "mean         4.456643\n",
       "std          2.887730\n",
       "min          0.000000\n",
       "25%          2.000000\n",
       "50%          4.000000\n",
       "75%          7.000000\n",
       "max          9.000000\n",
       "Name: label, dtype: float64"
      ]
     },
     "execution_count": 58,
     "metadata": {},
     "output_type": "execute_result"
    }
   ],
   "source": [
    "full_train_df['label'].describe()"
   ]
  },
  {
   "cell_type": "code",
   "execution_count": 18,
   "metadata": {},
   "outputs": [
    {
     "data": {
      "text/plain": [
       "<matplotlib.axes._subplots.AxesSubplot at 0x7f838d718898>"
      ]
     },
     "execution_count": 18,
     "metadata": {},
     "output_type": "execute_result"
    },
    {
     "data": {
      "image/png": "[encoded data removed]",
      "text/plain": [
       "<Figure size 432x288 with 1 Axes>"
      ]
     },
     "metadata": {
      "needs_background": "light"
     },
     "output_type": "display_data"
    }
   ],
   "source": [
    "label_count_df = full_train_df.groupby('label')['label'].count().plot()\n",
    "label_count_df"
   ]
  },
  {
   "cell_type": "code",
   "execution_count": 19,
   "metadata": {},
   "outputs": [],
   "source": [
    "full_train_data = MnistKaggleTrainDataset()"
   ]
  },
  {
   "cell_type": "code",
   "execution_count": 20,
   "metadata": {},
   "outputs": [
    {
     "data": {
      "text/plain": [
       "<matplotlib.image.AxesImage at 0x7f838c9e9080>"
      ]
     },
     "execution_count": 20,
     "metadata": {},
     "output_type": "execute_result"
    },
    {
     "data": {
      "image/png": "[encoded data removed]",
      "text/plain": [
       "<Figure size 432x288 with 1 Axes>"
      ]
     },
     "metadata": {
      "needs_background": "light"
     },
     "output_type": "display_data"
    }
   ],
   "source": [
    "plt.close()\n",
    "plt.imshow(full_train_data[200][0].view(28, 28), cmap='gray')"
   ]
  },
  {
   "cell_type": "code",
   "execution_count": 21,
   "metadata": {},
   "outputs": [
    {
     "data": {
      "text/plain": [
       "<matplotlib.image.AxesImage at 0x7f838c9b2470>"
      ]
     },
     "execution_count": 21,
     "metadata": {},
     "output_type": "execute_result"
    },
    {
     "data": {
      "image/png": "[encoded data removed]",
      "text/plain": [
       "<Figure size 432x288 with 1 Axes>"
      ]
     },
     "metadata": {
      "needs_background": "light"
     },
     "output_type": "display_data"
    }
   ],
   "source": [
    "import random\n",
    "random_indices = random.sample(range(0, len(full_train_data)), 20)\n",
    "random_train_data = []\n",
    "for index in random_indices:\n",
    "    random_train_data.append(full_train_data[index][0])\n",
    "combined_image = torchvision.utils.make_grid(random_train_data, nrow=5, padding=0)\n",
    "plt.imshow(combined_image.permute(1,2,0), cmap='gray')"
   ]
  },
  {
   "cell_type": "code",
   "execution_count": 22,
   "metadata": {},
   "outputs": [
    {
     "data": {
      "text/plain": [
       "33600"
      ]
     },
     "execution_count": 22,
     "metadata": {},
     "output_type": "execute_result"
    }
   ],
   "source": [
    "train_ratio = 0.8\n",
    "train_size = int(len(full_train_data) * train_ratio)\n",
    "val_size = len(full_train_data) - train_size\n",
    "train_size"
   ]
  },
  {
   "cell_type": "code",
   "execution_count": 23,
   "metadata": {},
   "outputs": [
    {
     "name": "stdout",
     "output_type": "stream",
     "text": [
      "33600 8400\n"
     ]
    }
   ],
   "source": [
    "from torch.utils import data\n",
    "\n",
    "train_data, val_data = data.random_split(full_train_data, [train_size, val_size])\n",
    "print(len(train_data), len(val_data))"
   ]
  },
  {
   "cell_type": "code",
   "execution_count": 24,
   "metadata": {},
   "outputs": [
    {
     "data": {
      "text/plain": [
       "50"
      ]
     },
     "execution_count": 24,
     "metadata": {},
     "output_type": "execute_result"
    }
   ],
   "source": [
    "overfit_train_size = 50\n",
    "overfit_train_data, _ = data.random_split(train_data, [overfit_train_size, train_size-overfit_train_size])\n",
    "len(overfit_train_data)"
   ]
  },
  {
   "cell_type": "code",
   "execution_count": 31,
   "metadata": {},
   "outputs": [
    {
     "name": "stdout",
     "output_type": "stream",
     "text": [
      "Epoch: 1/100, [Train] Loss: 2.279874801635742, Accuracy: 0.24\n",
      "Epoch: 1/100, [Valid] Loss: 0.014585448804896433, Accuracy: 0.0009963151927437647\n",
      "Epoch: 2/100, [Train] Loss: 2.0974013805389404, Accuracy: 0.3\n",
      "Epoch: 2/100, [Valid] Loss: 0.014445126403013325, Accuracy: 0.0010806405895691608\n",
      "Epoch: 3/100, [Train] Loss: 2.018200635910034, Accuracy: 0.34\n",
      "Epoch: 3/100, [Valid] Loss: 0.013845151560613358, Accuracy: 0.0012549603174603168\n",
      "Epoch: 4/100, [Train] Loss: 1.8497470617294312, Accuracy: 0.48\n",
      "Epoch: 4/100, [Valid] Loss: 0.0134341480028805, Accuracy: 0.0013732993197278906\n",
      "Epoch: 5/100, [Train] Loss: 1.709610939025879, Accuracy: 0.58\n",
      "Epoch: 5/100, [Valid] Loss: 0.013445369519141255, Accuracy: 0.0012903911564625832\n",
      "Epoch: 6/100, [Train] Loss: 1.6304881572723389, Accuracy: 0.56\n",
      "Epoch: 6/100, [Valid] Loss: 0.013627044332811351, Accuracy: 0.0012329931972789112\n",
      "Epoch: 7/100, [Train] Loss: 1.569262981414795, Accuracy: 0.52\n",
      "Epoch: 7/100, [Valid] Loss: 0.013675595910336966, Accuracy: 0.0012585034013605427\n",
      "Epoch: 8/100, [Train] Loss: 1.492722749710083, Accuracy: 0.58\n",
      "Epoch: 8/100, [Valid] Loss: 0.013567761638436189, Accuracy: 0.0013187358276643992\n",
      "Epoch: 9/100, [Train] Loss: 1.4194483757019043, Accuracy: 0.56\n",
      "Epoch: 9/100, [Valid] Loss: 0.01334582359578604, Accuracy: 0.0013768424036281171\n",
      "Epoch: 10/100, [Train] Loss: 1.3538572788238525, Accuracy: 0.58\n",
      "Epoch: 10/100, [Valid] Loss: 0.013004196229097254, Accuracy: 0.0015306122448979598\n",
      "Epoch: 11/100, [Train] Loss: 1.2880685329437256, Accuracy: 0.62\n",
      "Epoch: 11/100, [Valid] Loss: 0.012718179615852244, Accuracy: 0.0017800453514739236\n",
      "Epoch: 12/100, [Train] Loss: 1.2234607934951782, Accuracy: 0.66\n",
      "Epoch: 12/100, [Valid] Loss: 0.012588603476953614, Accuracy: 0.001901927437641725\n",
      "Epoch: 13/100, [Train] Loss: 1.1664190292358398, Accuracy: 0.68\n",
      "Epoch: 13/100, [Valid] Loss: 0.012571492310520474, Accuracy: 0.00198341836734694\n",
      "Epoch: 14/100, [Train] Loss: 1.1058696508407593, Accuracy: 0.7\n",
      "Epoch: 14/100, [Valid] Loss: 0.012589684301087645, Accuracy: 0.0020365646258503406\n",
      "Epoch: 15/100, [Train] Loss: 1.0480034351348877, Accuracy: 0.7\n",
      "Epoch: 15/100, [Valid] Loss: 0.012605878230936132, Accuracy: 0.00207624716553288\n",
      "Epoch: 16/100, [Train] Loss: 0.9977757334709167, Accuracy: 0.7\n",
      "Epoch: 16/100, [Valid] Loss: 0.012545734922699376, Accuracy: 0.002138605442176872\n",
      "Epoch: 17/100, [Train] Loss: 0.9495311975479126, Accuracy: 0.7\n",
      "Epoch: 17/100, [Valid] Loss: 0.01236889670579747, Accuracy: 0.0022526927437641724\n",
      "Epoch: 18/100, [Train] Loss: 0.8929641246795654, Accuracy: 0.74\n",
      "Epoch: 18/100, [Valid] Loss: 0.012162621489930855, Accuracy: 0.002346938775510205\n",
      "Epoch: 19/100, [Train] Loss: 0.8367463946342468, Accuracy: 0.74\n",
      "Epoch: 19/100, [Valid] Loss: 0.011981896684418462, Accuracy: 0.0023958333333333336\n",
      "Epoch: 20/100, [Train] Loss: 0.7869194149971008, Accuracy: 0.84\n",
      "Epoch: 20/100, [Valid] Loss: 0.011804630413921782, Accuracy: 0.0024369331065759625\n",
      "Epoch: 21/100, [Train] Loss: 0.7378998398780823, Accuracy: 0.84\n",
      "Epoch: 21/100, [Valid] Loss: 0.01166694162333228, Accuracy: 0.002505668934240364\n",
      "Epoch: 22/100, [Train] Loss: 0.6897421479225159, Accuracy: 0.84\n",
      "Epoch: 22/100, [Valid] Loss: 0.011592626014128835, Accuracy: 0.0025488945578231287\n",
      "Epoch: 23/100, [Train] Loss: 0.6417909264564514, Accuracy: 0.84\n",
      "Epoch: 23/100, [Valid] Loss: 0.011517063205609787, Accuracy: 0.0025914115646258513\n",
      "Epoch: 24/100, [Train] Loss: 0.5940596461296082, Accuracy: 0.82\n",
      "Epoch: 24/100, [Valid] Loss: 0.01141716391608423, Accuracy: 0.0026105442176870756\n",
      "Epoch: 25/100, [Train] Loss: 0.549108624458313, Accuracy: 0.82\n",
      "Epoch: 25/100, [Valid] Loss: 0.01131983898799706, Accuracy: 0.002613378684807257\n",
      "Epoch: 26/100, [Train] Loss: 0.5096145868301392, Accuracy: 0.88\n",
      "Epoch: 26/100, [Valid] Loss: 0.0111531105205045, Accuracy: 0.002662273242630385\n",
      "Epoch: 27/100, [Train] Loss: 0.46990951895713806, Accuracy: 0.88\n",
      "Epoch: 27/100, [Valid] Loss: 0.0109169202098568, Accuracy: 0.0027196712018140593\n",
      "Epoch: 28/100, [Train] Loss: 0.43041709065437317, Accuracy: 0.92\n",
      "Epoch: 28/100, [Valid] Loss: 0.010736193600830848, Accuracy: 0.0027536848072562364\n",
      "Epoch: 29/100, [Train] Loss: 0.3951612710952759, Accuracy: 0.94\n",
      "Epoch: 29/100, [Valid] Loss: 0.010655093976125426, Accuracy: 0.0027770691609977334\n",
      "Epoch: 30/100, [Train] Loss: 0.3615196645259857, Accuracy: 0.94\n",
      "Epoch: 30/100, [Valid] Loss: 0.010630920140786506, Accuracy: 0.002820294784580501\n",
      "Epoch: 31/100, [Train] Loss: 0.32911255955696106, Accuracy: 0.92\n",
      "Epoch: 31/100, [Valid] Loss: 0.010617844147983592, Accuracy: 0.002839427437641723\n",
      "Epoch: 32/100, [Train] Loss: 0.30134817957878113, Accuracy: 0.92\n",
      "Epoch: 32/100, [Valid] Loss: 0.010532024977496422, Accuracy: 0.0028791099773242644\n",
      "Epoch: 33/100, [Train] Loss: 0.27406227588653564, Accuracy: 0.96\n",
      "Epoch: 33/100, [Valid] Loss: 0.010356696884310434, Accuracy: 0.0029336734693877578\n",
      "Epoch: 34/100, [Train] Loss: 0.24487434327602386, Accuracy: 0.96\n",
      "Epoch: 34/100, [Valid] Loss: 0.010191743036144986, Accuracy: 0.0029804421768707488\n",
      "Epoch: 35/100, [Train] Loss: 0.21929006278514862, Accuracy: 0.98\n",
      "Epoch: 35/100, [Valid] Loss: 0.010098039618188562, Accuracy: 0.003026502267573695\n",
      "Epoch: 36/100, [Train] Loss: 0.19829459488391876, Accuracy: 0.98\n",
      "Epoch: 36/100, [Valid] Loss: 0.010077413420727193, Accuracy: 0.003051303854875283\n",
      "Epoch: 37/100, [Train] Loss: 0.17777958512306213, Accuracy: 0.98\n",
      "Epoch: 37/100, [Valid] Loss: 0.010123243986242482, Accuracy: 0.003087443310657596\n",
      "Epoch: 38/100, [Train] Loss: 0.15849356353282928, Accuracy: 0.98\n",
      "Epoch: 38/100, [Valid] Loss: 0.010213448250003141, Accuracy: 0.003107284580498865\n",
      "Epoch: 39/100, [Train] Loss: 0.1424339860677719, Accuracy: 0.98\n",
      "Epoch: 39/100, [Valid] Loss: 0.010280810497160536, Accuracy: 0.003110827664399093\n",
      "Epoch: 40/100, [Train] Loss: 0.12827998399734497, Accuracy: 0.98\n",
      "Epoch: 40/100, [Valid] Loss: 0.010299609070158058, Accuracy: 0.003122165532879822\n",
      "Epoch: 41/100, [Train] Loss: 0.11434615403413773, Accuracy: 1.0\n",
      "Epoch: 41/100, [Valid] Loss: 0.010308266570897194, Accuracy: 0.003149801587301588\n",
      "Epoch: 42/100, [Train] Loss: 0.10256845504045486, Accuracy: 1.0\n",
      "Epoch: 42/100, [Valid] Loss: 0.010325154346622983, Accuracy: 0.003164682539682539\n",
      "Epoch: 43/100, [Train] Loss: 0.09169411659240723, Accuracy: 1.0\n",
      "Epoch: 43/100, [Valid] Loss: 0.010353834207788482, Accuracy: 0.003188775510204081\n",
      "Epoch: 44/100, [Train] Loss: 0.08138740807771683, Accuracy: 1.0\n",
      "Epoch: 44/100, [Valid] Loss: 0.010412329736074893, Accuracy: 0.0032071995464852602\n",
      "Epoch: 45/100, [Train] Loss: 0.07216691225767136, Accuracy: 1.0\n",
      "Epoch: 45/100, [Valid] Loss: 0.01052123563714714, Accuracy: 0.003224914965986394\n",
      "Epoch: 46/100, [Train] Loss: 0.06435050815343857, Accuracy: 1.0\n",
      "Epoch: 46/100, [Valid] Loss: 0.010668105538723285, Accuracy: 0.003224914965986395\n",
      "Epoch: 47/100, [Train] Loss: 0.05698920413851738, Accuracy: 1.0\n",
      "Epoch: 47/100, [Valid] Loss: 0.010833502795690852, Accuracy: 0.0032213718820861686\n",
      "Epoch: 48/100, [Train] Loss: 0.050203096121549606, Accuracy: 1.0\n",
      "Epoch: 48/100, [Valid] Loss: 0.011000934618687818, Accuracy: 0.003216411564625851\n",
      "Epoch: 49/100, [Train] Loss: 0.04488429054617882, Accuracy: 1.0\n",
      "Epoch: 49/100, [Valid] Loss: 0.011148134451317274, Accuracy: 0.0032157029478458036\n",
      "Epoch: 50/100, [Train] Loss: 0.04013067111372948, Accuracy: 1.0\n",
      "Epoch: 50/100, [Valid] Loss: 0.011283360438552303, Accuracy: 0.003219954648526076\n",
      "Epoch: 51/100, [Train] Loss: 0.036261968314647675, Accuracy: 1.0\n",
      "Epoch: 51/100, [Valid] Loss: 0.011394546950096581, Accuracy: 0.003229875283446711\n",
      "Epoch: 52/100, [Train] Loss: 0.03249112144112587, Accuracy: 1.0\n",
      "Epoch: 52/100, [Valid] Loss: 0.011499318197082366, Accuracy: 0.0032412131519274356\n",
      "Epoch: 53/100, [Train] Loss: 0.02936527319252491, Accuracy: 1.0\n",
      "Epoch: 53/100, [Valid] Loss: 0.011591504657400303, Accuracy: 0.00324971655328798\n",
      "Epoch: 54/100, [Train] Loss: 0.026425398886203766, Accuracy: 1.0\n",
      "Epoch: 54/100, [Valid] Loss: 0.01167153419035565, Accuracy: 0.003261763038548752\n",
      "Epoch: 55/100, [Train] Loss: 0.02398884855210781, Accuracy: 1.0\n",
      "Epoch: 55/100, [Valid] Loss: 0.01174939728538398, Accuracy: 0.0032674319727891135\n",
      "Epoch: 56/100, [Train] Loss: 0.02167707495391369, Accuracy: 1.0\n",
      "Epoch: 56/100, [Valid] Loss: 0.011834868044083487, Accuracy: 0.0032702664399092947\n",
      "Epoch: 57/100, [Train] Loss: 0.01977924257516861, Accuracy: 1.0\n",
      "Epoch: 57/100, [Valid] Loss: 0.01192029578877347, Accuracy: 0.0032780612244897945\n",
      "Epoch: 58/100, [Train] Loss: 0.018077248707413673, Accuracy: 1.0\n",
      "Epoch: 58/100, [Valid] Loss: 0.012004763405356143, Accuracy: 0.003284438775510202\n",
      "Epoch: 59/100, [Train] Loss: 0.016587086021900177, Accuracy: 1.0\n",
      "Epoch: 59/100, [Valid] Loss: 0.012076307521064401, Accuracy: 0.003295776643990928\n",
      "Epoch: 60/100, [Train] Loss: 0.015237369574606419, Accuracy: 1.0\n",
      "Epoch: 60/100, [Valid] Loss: 0.012137431488741957, Accuracy: 0.0033021541950113372\n",
      "Epoch: 61/100, [Train] Loss: 0.014090308919548988, Accuracy: 1.0\n",
      "Epoch: 61/100, [Valid] Loss: 0.012201677486215994, Accuracy: 0.0032986111111111107\n",
      "Epoch: 62/100, [Train] Loss: 0.013056106865406036, Accuracy: 1.0\n",
      "Epoch: 62/100, [Valid] Loss: 0.012265842160856235, Accuracy: 0.0033056972789115642\n",
      "Epoch: 63/100, [Train] Loss: 0.012076396495103836, Accuracy: 1.0\n",
      "Epoch: 63/100, [Valid] Loss: 0.012333980797369734, Accuracy: 0.0032979024943310654\n",
      "Epoch: 64/100, [Train] Loss: 0.01123252883553505, Accuracy: 1.0\n",
      "Epoch: 64/100, [Valid] Loss: 0.012402065301022563, Accuracy: 0.0033056972789115634\n",
      "Epoch: 65/100, [Train] Loss: 0.010504169389605522, Accuracy: 1.0\n",
      "Epoch: 65/100, [Valid] Loss: 0.012471988231213996, Accuracy: 0.0033071145124716544\n",
      "Epoch: 66/100, [Train] Loss: 0.00984951015561819, Accuracy: 1.0\n",
      "Epoch: 66/100, [Valid] Loss: 0.012542752684210163, Accuracy: 0.0033064058956916104\n",
      "Epoch: 67/100, [Train] Loss: 0.009233618155121803, Accuracy: 1.0\n",
      "Epoch: 67/100, [Valid] Loss: 0.012612249611405965, Accuracy: 0.0033071145124716544\n",
      "Epoch: 68/100, [Train] Loss: 0.008668985217809677, Accuracy: 1.0\n",
      "Epoch: 68/100, [Valid] Loss: 0.01267521576681375, Accuracy: 0.0033113662131519276\n",
      "Epoch: 69/100, [Train] Loss: 0.008160114288330078, Accuracy: 1.0\n",
      "Epoch: 69/100, [Valid] Loss: 0.01273937855980226, Accuracy: 0.0033149092970521554\n",
      "Epoch: 70/100, [Train] Loss: 0.007709198165684938, Accuracy: 1.0\n",
      "Epoch: 70/100, [Valid] Loss: 0.012802225292624394, Accuracy: 0.0033106575963718823\n",
      "Epoch: 71/100, [Train] Loss: 0.007318458519876003, Accuracy: 1.0\n",
      "Epoch: 71/100, [Valid] Loss: 0.012867694845224589, Accuracy: 0.003312783446712018\n",
      "Epoch: 72/100, [Train] Loss: 0.006954011972993612, Accuracy: 1.0\n",
      "Epoch: 72/100, [Valid] Loss: 0.012934954089372336, Accuracy: 0.0033099489795918352\n",
      "Epoch: 73/100, [Train] Loss: 0.006598787382245064, Accuracy: 1.0\n",
      "Epoch: 73/100, [Valid] Loss: 0.013003939883086553, Accuracy: 0.0033099489795918365\n",
      "Epoch: 74/100, [Train] Loss: 0.006273689214140177, Accuracy: 1.0\n",
      "Epoch: 74/100, [Valid] Loss: 0.013067637384360205, Accuracy: 0.003311366213151929\n",
      "Epoch: 75/100, [Train] Loss: 0.006013116799294949, Accuracy: 1.0\n",
      "Epoch: 75/100, [Valid] Loss: 0.01312144296011484, Accuracy: 0.003309240362811793\n",
      "Epoch: 76/100, [Train] Loss: 0.0057621002197265625, Accuracy: 1.0\n",
      "Epoch: 76/100, [Valid] Loss: 0.013166637172555031, Accuracy: 0.003309948979591838\n",
      "Epoch: 77/100, [Train] Loss: 0.005526323337107897, Accuracy: 1.0\n",
      "Epoch: 77/100, [Valid] Loss: 0.013205157031142521, Accuracy: 0.003308531746031747\n",
      "Epoch: 78/100, [Train] Loss: 0.005291004199534655, Accuracy: 1.0\n",
      "Epoch: 78/100, [Valid] Loss: 0.013238089131677096, Accuracy: 0.0033134920634920635\n",
      "Epoch: 79/100, [Train] Loss: 0.005072517320513725, Accuracy: 1.0\n",
      "Epoch: 79/100, [Valid] Loss: 0.0132661622245701, Accuracy: 0.0033156179138321995\n",
      "Epoch: 80/100, [Train] Loss: 0.004892187193036079, Accuracy: 1.0\n",
      "Epoch: 80/100, [Valid] Loss: 0.01329156830949105, Accuracy: 0.003317743764172336\n",
      "Epoch: 81/100, [Train] Loss: 0.004716510884463787, Accuracy: 1.0\n",
      "Epoch: 81/100, [Valid] Loss: 0.01331567858259221, Accuracy: 0.003317743764172336\n",
      "Epoch: 82/100, [Train] Loss: 0.004547319374978542, Accuracy: 1.0\n",
      "Epoch: 82/100, [Valid] Loss: 0.013338981067461897, Accuracy: 0.0033227040816326534\n",
      "Epoch: 83/100, [Train] Loss: 0.004390392452478409, Accuracy: 1.0\n",
      "Epoch: 83/100, [Valid] Loss: 0.013359642513687648, Accuracy: 0.003327664399092971\n",
      "Epoch: 84/100, [Train] Loss: 0.004245939198881388, Accuracy: 1.0\n",
      "Epoch: 84/100, [Valid] Loss: 0.013378923513890664, Accuracy: 0.003328373015873016\n",
      "Epoch: 85/100, [Train] Loss: 0.004107189364731312, Accuracy: 1.0\n",
      "Epoch: 85/100, [Valid] Loss: 0.013397063206788365, Accuracy: 0.003332624716553289\n",
      "Epoch: 86/100, [Train] Loss: 0.003973484039306641, Accuracy: 1.0\n",
      "Epoch: 86/100, [Valid] Loss: 0.013415172294863498, Accuracy: 0.0033375850340136063\n",
      "Epoch: 87/100, [Train] Loss: 0.0038621616549789906, Accuracy: 1.0\n",
      "Epoch: 87/100, [Valid] Loss: 0.013435903429782311, Accuracy: 0.0033418367346938786\n",
      "Epoch: 88/100, [Train] Loss: 0.003737173043191433, Accuracy: 1.0\n",
      "Epoch: 88/100, [Valid] Loss: 0.013455213763478661, Accuracy: 0.003342545351473924\n",
      "Epoch: 89/100, [Train] Loss: 0.0036387634463608265, Accuracy: 1.0\n",
      "Epoch: 89/100, [Valid] Loss: 0.013476869095615249, Accuracy: 0.0033460884353741505\n",
      "Epoch: 90/100, [Train] Loss: 0.0035414027515798807, Accuracy: 1.0\n",
      "Epoch: 90/100, [Valid] Loss: 0.01350024280871123, Accuracy: 0.0033482142857142855\n",
      "Epoch: 91/100, [Train] Loss: 0.0034485531505197287, Accuracy: 1.0\n",
      "Epoch: 91/100, [Valid] Loss: 0.013527978258101848, Accuracy: 0.0033460884353741496\n",
      "Epoch: 92/100, [Train] Loss: 0.0033625317737460136, Accuracy: 1.0\n",
      "Epoch: 92/100, [Valid] Loss: 0.013559216734807507, Accuracy: 0.0033460884353741496\n",
      "Epoch: 93/100, [Train] Loss: 0.003277263604104519, Accuracy: 1.0\n",
      "Epoch: 93/100, [Valid] Loss: 0.01359322369774453, Accuracy: 0.003341128117913833\n",
      "Epoch: 94/100, [Train] Loss: 0.0031947134993970394, Accuracy: 1.0\n",
      "Epoch: 94/100, [Valid] Loss: 0.013625888964858184, Accuracy: 0.003339002267573695\n",
      "Epoch: 95/100, [Train] Loss: 0.003116283332929015, Accuracy: 1.0\n",
      "Epoch: 95/100, [Valid] Loss: 0.013656345616324958, Accuracy: 0.003340419501133786\n",
      "Epoch: 96/100, [Train] Loss: 0.0030478001572191715, Accuracy: 1.0\n",
      "Epoch: 96/100, [Valid] Loss: 0.013686715276772473, Accuracy: 0.0033368764172335592\n",
      "Epoch: 97/100, [Train] Loss: 0.0029817961622029543, Accuracy: 1.0\n",
      "Epoch: 97/100, [Valid] Loss: 0.013716258522537019, Accuracy: 0.00333829365079365\n",
      "Epoch: 98/100, [Train] Loss: 0.0029136466328054667, Accuracy: 1.0\n",
      "Epoch: 98/100, [Valid] Loss: 0.013744873816227698, Accuracy: 0.003340419501133786\n",
      "Epoch: 99/100, [Train] Loss: 0.002854738151654601, Accuracy: 1.0\n",
      "Epoch: 99/100, [Valid] Loss: 0.013769106415698047, Accuracy: 0.0033404195011337867\n",
      "Epoch: 100/100, [Train] Loss: 0.002796440152451396, Accuracy: 1.0\n",
      "Epoch: 100/100, [Valid] Loss: 0.013789914117581178, Accuracy: 0.0033432539682539683\n"
     ]
    }
   ],
   "source": [
    "from cnn import ClassificationCNN\n",
    "from solver import Solver\n",
    "\n",
    "overfit_train_loader = data.DataLoader(overfit_train_data, batch_size=overfit_train_size, shuffle=False, num_workers=4)\n",
    "val_loader = data.DataLoader(val_data, batch_size=overfit_train_size, shuffle=False, num_workers=4)\n",
    "\n",
    "overfit_model = ClassificationCNN()\n",
    "# overfit_model.to(device)\n",
    "\n",
    "solver = Solver()\n",
    "solver.train(device, overfit_model, overfit_train_loader, val_loader, num_epochs=100, log_nth=0)"
   ]
  },
  {
   "cell_type": "code",
   "execution_count": 37,
   "metadata": {},
   "outputs": [
    {
     "data": {
      "image/png": "[encoded data removed]",
      "text/plain": [
       "<Figure size 432x288 with 2 Axes>"
      ]
     },
     "metadata": {
      "needs_background": "light"
     },
     "output_type": "display_data"
    }
   ],
   "source": [
    "plt.subplot(2, 1, 1)\n",
    "plt.plot(solver.train_loss_history)\n",
    "plt.plot(solver.val_loss_history)\n",
    "plt.xlabel('epoch')\n",
    "plt.ylabel('loss')\n",
    "plt.legend(['train', 'val'], loc='lower right')\n",
    "\n",
    "plt.subplot(2, 1, 2)\n",
    "plt.plot(solver.train_acc_history)\n",
    "plt.plot(solver.val_acc_history)\n",
    "plt.xlabel('epoch')\n",
    "plt.ylabel('accuracy')\n",
    "plt.legend(['train', 'val'], loc='lower right')\n",
    "\n",
    "plt.show()"
   ]
  },
  {
   "cell_type": "code",
   "execution_count": 43,
   "metadata": {},
   "outputs": [
    {
     "name": "stdout",
     "output_type": "stream",
     "text": [
      "Iteration: 100/660, Loss: 0.4326905906200409\n",
      "Epoch: 1/5, [Train] Loss: 0.9982233633371916, Accuracy: 0.6658676609848485\n",
      "Epoch: 1/5, [Valid] Loss: 0.2951756580309434, Accuracy: 0.9076340326340326\n",
      "Iteration: 100/660, Loss: 0.15536580979824066\n",
      "Epoch: 2/5, [Train] Loss: 0.2060687370372541, Accuracy: 0.9343335700757576\n",
      "Epoch: 2/5, [Valid] Loss: 0.17764656177975915, Accuracy: 0.9403226981351982\n",
      "Iteration: 100/660, Loss: 0.09433995932340622\n",
      "Epoch: 3/5, [Train] Loss: 0.14215716330165212, Accuracy: 0.9552852746212122\n",
      "Epoch: 3/5, [Valid] Loss: 0.12815595147284595, Accuracy: 0.9594259906759907\n",
      "Iteration: 100/660, Loss: 0.08747662603855133\n",
      "Epoch: 4/5, [Train] Loss: 0.11053472421498912, Accuracy: 0.9651692708333334\n",
      "Epoch: 4/5, [Valid] Loss: 0.10840400782498447, Accuracy: 0.9665191579254079\n",
      "Iteration: 100/660, Loss: 0.022094808518886566\n",
      "Epoch: 5/5, [Train] Loss: 0.0900970705869523, Accuracy: 0.9708510890151515\n",
      "Epoch: 5/5, [Valid] Loss: 0.10293834498434355, Accuracy: 0.9669289044289044\n"
     ]
    }
   ],
   "source": [
    "batch_size = 256\n",
    "\n",
    "train_loader = data.DataLoader(train_data, batch_size=batch_size, shuffle=True, num_workers=4)\n",
    "val_loader = data.DataLoader(val_data, batch_size=batch_size, shuffle=False, num_workers=4)\n",
    "\n",
    "model = ClassificationCNN()\n",
    "# overfit_model.to(device)\n",
    "\n",
    "solver = Solver()\n",
    "solver.train(device, model, train_loader, val_loader, num_epochs=5, log_nth=100)"
   ]
  },
  {
   "cell_type": "code",
   "execution_count": 44,
   "metadata": {},
   "outputs": [
    {
     "data": {
      "image/png": "[encoded data removed]",
      "text/plain": [
       "<Figure size 432x288 with 2 Axes>"
      ]
     },
     "metadata": {
      "needs_background": "light"
     },
     "output_type": "display_data"
    }
   ],
   "source": [
    "plt.subplot(2, 1, 1)\n",
    "plt.plot(solver.train_loss_history)\n",
    "plt.plot(solver.val_loss_history)\n",
    "plt.xlabel('epoch')\n",
    "plt.ylabel('loss')\n",
    "plt.legend(['train', 'val'], loc='lower right')\n",
    "\n",
    "plt.subplot(2, 1, 2)\n",
    "plt.plot(solver.train_acc_history)\n",
    "plt.plot(solver.val_acc_history)\n",
    "plt.xlabel('epoch')\n",
    "plt.ylabel('accuracy')\n",
    "plt.legend(['train', 'val'], loc='lower right')\n",
    "\n",
    "plt.show()"
   ]
  },
  {
   "cell_type": "code",
   "execution_count": 51,
   "metadata": {},
   "outputs": [],
   "source": [
    "test_loader = data.DataLoader(MnistKaggleTestDataset(), batch_size=1, shuffle=False, num_workers=1)\n",
    "\n",
    "model.eval()\n",
    "\n",
    "with open('result.txt', 'w+') as fp:\n",
    "    for id, input in enumerate(test_loader):\n",
    "        input = input.to(device).float()\n",
    "\n",
    "        score = model(input)\n",
    "\n",
    "        prediction = torch.argmax(score, dim=1)\n",
    "\n",
    "        fp.write('{},{}\\n'.format(id+1, prediction[0]))"
   ]
  },
  {
   "cell_type": "code",
   "execution_count": 57,
   "metadata": {},
   "outputs": [
    {
     "data": {
      "text/plain": [
       "<matplotlib.image.AxesImage at 0x7f837bdaa588>"
      ]
     },
     "execution_count": 57,
     "metadata": {},
     "output_type": "execute_result"
    },
    {
     "data": {
      "image/png": "[encoded data removed]",
      "text/plain": [
       "<Figure size 432x288 with 1 Axes>"
      ]
     },
     "metadata": {
      "needs_background": "light"
     },
     "output_type": "display_data"
    }
   ],
   "source": [
    "plt.close()\n",
    "plt.imshow(MnistKaggleTestDataset()[27997].view(28, 28), cmap='gray')"
   ]
  }
 ],
 "metadata": {
  "kernelspec": {
   "display_name": "Python 3",
   "language": "python",
   "name": "python3"
  },
  "language_info": {
   "codemirror_mode": {
    "name": "ipython",
    "version": 3
   },
   "file_extension": ".py",
   "mimetype": "text/x-python",
   "name": "python",
   "nbconvert_exporter": "python",
   "pygments_lexer": "ipython3",
   "version": "3.6.8"
  }
 },
 "nbformat": 4,
 "nbformat_minor": 2
}
